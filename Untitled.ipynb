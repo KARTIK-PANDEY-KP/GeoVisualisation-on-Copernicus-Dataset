{
  "nbformat": 4,
  "nbformat_minor": 0,
  "metadata": {
    "colab": {
      "name": "Untitled",
      "provenance": [],
      "authorship_tag": "ABX9TyMy1E0SobhTNIsNDGbb+xUH",
      "include_colab_link": true
    },
    "kernelspec": {
      "name": "python3",
      "display_name": "Python 3"
    }
  },
  "cells": [
    {
      "cell_type": "markdown",
      "metadata": {
        "id": "view-in-github",
        "colab_type": "text"
      },
      "source": [
        "<a href=\"https://colab.research.google.com/github/KARTIK-PANDEY-KP/GeoVisualisation-on-Copernicus-Dataset/blob/main/Untitled.ipynb\" target=\"_parent\"><img src=\"https://colab.research.google.com/assets/colab-badge.svg\" alt=\"Open In Colab\"/></a>"
      ]
    },
    {
      "cell_type": "markdown",
      "metadata": {
        "id": "u3F1Iz_8vwv6"
      },
      "source": [
        "### **Importing Libraries and setting up the CDSAPI*"
      ]
    },
    {
      "cell_type": "code",
      "metadata": {
        "id": "13A5-xdOv9OK",
        "outputId": "4ee9a6c5-4aa1-4573-ebc5-ae26b626a1f0",
        "colab": {
          "base_uri": "https://localhost:8080/"
        }
      },
      "source": [
        "import pandas\n",
        "import numpy\n",
        "import matplotlib.pyplot as plt\n",
        "!pip install cdsapi\n",
        "import cdsapi\n",
        "import os\n",
        "!pip install xarray\n",
        "import xarray as xr"
      ],
      "execution_count": 96,
      "outputs": [
        {
          "output_type": "stream",
          "text": [
            "Requirement already satisfied: cdsapi in /usr/local/lib/python3.6/dist-packages (0.3.1)\n",
            "Requirement already satisfied: requests>=2.5.0 in /usr/local/lib/python3.6/dist-packages (from cdsapi) (2.23.0)\n",
            "Requirement already satisfied: tqdm in /usr/local/lib/python3.6/dist-packages (from cdsapi) (4.41.1)\n",
            "Requirement already satisfied: certifi>=2017.4.17 in /usr/local/lib/python3.6/dist-packages (from requests>=2.5.0->cdsapi) (2020.6.20)\n",
            "Requirement already satisfied: idna<3,>=2.5 in /usr/local/lib/python3.6/dist-packages (from requests>=2.5.0->cdsapi) (2.10)\n",
            "Requirement already satisfied: chardet<4,>=3.0.2 in /usr/local/lib/python3.6/dist-packages (from requests>=2.5.0->cdsapi) (3.0.4)\n",
            "Requirement already satisfied: urllib3!=1.25.0,!=1.25.1,<1.26,>=1.21.1 in /usr/local/lib/python3.6/dist-packages (from requests>=2.5.0->cdsapi) (1.24.3)\n",
            "Requirement already satisfied: xarray in /usr/local/lib/python3.6/dist-packages (0.15.1)\n",
            "Requirement already satisfied: numpy>=1.15 in /usr/local/lib/python3.6/dist-packages (from xarray) (1.18.5)\n",
            "Requirement already satisfied: setuptools>=41.2 in /usr/local/lib/python3.6/dist-packages (from xarray) (50.3.2)\n",
            "Requirement already satisfied: pandas>=0.25 in /usr/local/lib/python3.6/dist-packages (from xarray) (1.1.4)\n",
            "Requirement already satisfied: pytz>=2017.2 in /usr/local/lib/python3.6/dist-packages (from pandas>=0.25->xarray) (2018.9)\n",
            "Requirement already satisfied: python-dateutil>=2.7.3 in /usr/local/lib/python3.6/dist-packages (from pandas>=0.25->xarray) (2.8.1)\n",
            "Requirement already satisfied: six>=1.5 in /usr/local/lib/python3.6/dist-packages (from python-dateutil>=2.7.3->pandas>=0.25->xarray) (1.15.0)\n"
          ],
          "name": "stdout"
        }
      ]
    },
    {
      "cell_type": "code",
      "metadata": {
        "id": "Sk-Vt76J61-V"
      },
      "source": [
        "url = 'url: https://cds.climate.copernicus.eu/api/v2'\n",
        "key = 'key: 65970:aa474849-46e0-476b-b5db-cb23fe2c06a6'\n",
        "\n",
        "with open('/root/.cdsapirc', \"w\") as f:\n",
        "    f.write('\\n'.join([url, key]))"
      ],
      "execution_count": 68,
      "outputs": []
    },
    {
      "cell_type": "markdown",
      "metadata": {
        "id": "WTeTmk3uwrCe"
      },
      "source": [
        "## **Procuring and Reading Geospatial Data**\n",
        "The Copernicus Data Store (CDS) is a one stop shop for a wide range of historical and real time geospatial data from various remote sensing and on-the-ground weather observations. The CDS API allows for programmatic access to this data store. This API is used to obtain the following data from the ERA5-Land Hourly Reanalysis Dataset."
      ]
    },
    {
      "cell_type": "code",
      "metadata": {
        "id": "yng63Epz2HAn",
        "outputId": "fdc66c89-436f-417a-bf34-54de3cb0b2ab",
        "colab": {
          "base_uri": "https://localhost:8080/"
        }
      },
      "source": [
        "c = cdsapi.Client()\n",
        "\n",
        "c.retrieve(\n",
        "    'reanalysis-era5-land',\n",
        "    {\n",
        "        'format': 'netcdf',\n",
        "        'variable': [\n",
        "            '2m_temperature', 'total_precipitation', 'volumetric_soil_water_layer_1',\n",
        "        ],\n",
        "        'year': '2019',\n",
        "        'month': '12',\n",
        "        'day': [\n",
        "            '01', '02', '03',\n",
        "            '04', '05', '06',\n",
        "            '07', '08', '09',\n",
        "            '10', '11', '12',\n",
        "            '13', '14', '15',\n",
        "            '16', '17', '18',\n",
        "            '19', '20', '21',\n",
        "            '22', '23', '24',\n",
        "            '25', '26', '27',\n",
        "            '28', '29', '30',\n",
        "            '31',\n",
        "        ],\n",
        "        'time': '12:00',\n",
        "    },\n",
        "    'download.nc')"
      ],
      "execution_count": 89,
      "outputs": [
        {
          "output_type": "stream",
          "text": [
            "2020-11-05 07:43:23,976 INFO Welcome to the CDS\n",
            "2020-11-05 07:43:23,977 INFO Sending request to https://cds.climate.copernicus.eu/api/v2/resources/reanalysis-era5-land\n",
            "2020-11-05 07:43:24,129 INFO Request is completed\n",
            "2020-11-05 07:43:24,130 INFO Downloading http://136.156.133.42/cache-compute-0014/cache/data4/adaptor.mars.internal-1604394192.6064982-12478-16-aa111512-bc0a-45bd-b881-829116d11037.nc to download.nc (1.1G)\n",
            "2020-11-05 07:46:48,564 INFO Download rate 5.6M/s\n"
          ],
          "name": "stderr"
        }
      ]
    },
    {
      "cell_type": "code",
      "metadata": {
        "id": "h2nOhFSdXDC8"
      },
      "source": [
        "ds = xr.open_dataset('download.nc')\n",
        "df = ds.to_dataframe()"
      ],
      "execution_count": 97,
      "outputs": []
    },
    {
      "cell_type": "code",
      "metadata": {
        "id": "pbKf_OTBcuMl",
        "outputId": "d03b0e91-eb71-428a-e416-1c40951e477c",
        "colab": {
          "base_uri": "https://localhost:8080/",
          "height": 448
        }
      },
      "source": [
        "df.head(100)"
      ],
      "execution_count": 101,
      "outputs": [
        {
          "output_type": "execute_result",
          "data": {
            "text/html": [
              "<div>\n",
              "<style scoped>\n",
              "    .dataframe tbody tr th:only-of-type {\n",
              "        vertical-align: middle;\n",
              "    }\n",
              "\n",
              "    .dataframe tbody tr th {\n",
              "        vertical-align: top;\n",
              "    }\n",
              "\n",
              "    .dataframe thead th {\n",
              "        text-align: right;\n",
              "    }\n",
              "</style>\n",
              "<table border=\"1\" class=\"dataframe\">\n",
              "  <thead>\n",
              "    <tr style=\"text-align: right;\">\n",
              "      <th></th>\n",
              "      <th></th>\n",
              "      <th></th>\n",
              "      <th>t2m</th>\n",
              "      <th>tp</th>\n",
              "      <th>swvl1</th>\n",
              "    </tr>\n",
              "    <tr>\n",
              "      <th>latitude</th>\n",
              "      <th>longitude</th>\n",
              "      <th>time</th>\n",
              "      <th></th>\n",
              "      <th></th>\n",
              "      <th></th>\n",
              "    </tr>\n",
              "  </thead>\n",
              "  <tbody>\n",
              "    <tr>\n",
              "      <th rowspan=\"11\" valign=\"top\">90.0</th>\n",
              "      <th rowspan=\"5\" valign=\"top\">0.0</th>\n",
              "      <th>2019-12-01 12:00:00</th>\n",
              "      <td>NaN</td>\n",
              "      <td>NaN</td>\n",
              "      <td>NaN</td>\n",
              "    </tr>\n",
              "    <tr>\n",
              "      <th>2019-12-02 12:00:00</th>\n",
              "      <td>NaN</td>\n",
              "      <td>NaN</td>\n",
              "      <td>NaN</td>\n",
              "    </tr>\n",
              "    <tr>\n",
              "      <th>2019-12-03 12:00:00</th>\n",
              "      <td>NaN</td>\n",
              "      <td>NaN</td>\n",
              "      <td>NaN</td>\n",
              "    </tr>\n",
              "    <tr>\n",
              "      <th>2019-12-04 12:00:00</th>\n",
              "      <td>NaN</td>\n",
              "      <td>NaN</td>\n",
              "      <td>NaN</td>\n",
              "    </tr>\n",
              "    <tr>\n",
              "      <th>2019-12-05 12:00:00</th>\n",
              "      <td>NaN</td>\n",
              "      <td>NaN</td>\n",
              "      <td>NaN</td>\n",
              "    </tr>\n",
              "    <tr>\n",
              "      <th>...</th>\n",
              "      <th>...</th>\n",
              "      <td>...</td>\n",
              "      <td>...</td>\n",
              "      <td>...</td>\n",
              "    </tr>\n",
              "    <tr>\n",
              "      <th rowspan=\"5\" valign=\"top\">0.3</th>\n",
              "      <th>2019-12-03 12:00:00</th>\n",
              "      <td>NaN</td>\n",
              "      <td>NaN</td>\n",
              "      <td>NaN</td>\n",
              "    </tr>\n",
              "    <tr>\n",
              "      <th>2019-12-04 12:00:00</th>\n",
              "      <td>NaN</td>\n",
              "      <td>NaN</td>\n",
              "      <td>NaN</td>\n",
              "    </tr>\n",
              "    <tr>\n",
              "      <th>2019-12-05 12:00:00</th>\n",
              "      <td>NaN</td>\n",
              "      <td>NaN</td>\n",
              "      <td>NaN</td>\n",
              "    </tr>\n",
              "    <tr>\n",
              "      <th>2019-12-06 12:00:00</th>\n",
              "      <td>NaN</td>\n",
              "      <td>NaN</td>\n",
              "      <td>NaN</td>\n",
              "    </tr>\n",
              "    <tr>\n",
              "      <th>2019-12-07 12:00:00</th>\n",
              "      <td>NaN</td>\n",
              "      <td>NaN</td>\n",
              "      <td>NaN</td>\n",
              "    </tr>\n",
              "  </tbody>\n",
              "</table>\n",
              "<p>100 rows × 3 columns</p>\n",
              "</div>"
            ],
            "text/plain": [
              "                                        t2m  tp  swvl1\n",
              "latitude longitude time                               \n",
              "90.0     0.0       2019-12-01 12:00:00  NaN NaN    NaN\n",
              "                   2019-12-02 12:00:00  NaN NaN    NaN\n",
              "                   2019-12-03 12:00:00  NaN NaN    NaN\n",
              "                   2019-12-04 12:00:00  NaN NaN    NaN\n",
              "                   2019-12-05 12:00:00  NaN NaN    NaN\n",
              "...                                     ...  ..    ...\n",
              "         0.3       2019-12-03 12:00:00  NaN NaN    NaN\n",
              "                   2019-12-04 12:00:00  NaN NaN    NaN\n",
              "                   2019-12-05 12:00:00  NaN NaN    NaN\n",
              "                   2019-12-06 12:00:00  NaN NaN    NaN\n",
              "                   2019-12-07 12:00:00  NaN NaN    NaN\n",
              "\n",
              "[100 rows x 3 columns]"
            ]
          },
          "metadata": {
            "tags": []
          },
          "execution_count": 101
        }
      ]
    },
    {
      "cell_type": "code",
      "metadata": {
        "id": "hHjn0o2Kc04E",
        "outputId": "b6a13373-fe94-455f-97f4-b136138c2cb6",
        "colab": {
          "base_uri": "https://localhost:8080/"
        }
      },
      "source": [
        "df.shape"
      ],
      "execution_count": 102,
      "outputs": [
        {
          "output_type": "execute_result",
          "data": {
            "text/plain": [
              "(200991600, 3)"
            ]
          },
          "metadata": {
            "tags": []
          },
          "execution_count": 102
        }
      ]
    },
    {
      "cell_type": "code",
      "metadata": {
        "id": "MXydh6-TdOVi",
        "outputId": "e166c646-8b3c-4060-a5bb-ce5924ac0434",
        "colab": {
          "base_uri": "https://localhost:8080/"
        }
      },
      "source": [
        "df.columns"
      ],
      "execution_count": 104,
      "outputs": [
        {
          "output_type": "execute_result",
          "data": {
            "text/plain": [
              "Index(['t2m', 'tp', 'swvl1'], dtype='object')"
            ]
          },
          "metadata": {
            "tags": []
          },
          "execution_count": 104
        }
      ]
    },
    {
      "cell_type": "code",
      "metadata": {
        "id": "XUdTy4UrdRjk",
        "outputId": "4577b140-6077-43a3-e51f-5acb75458702",
        "colab": {
          "base_uri": "https://localhost:8080/"
        }
      },
      "source": [
        "df[\"t2m\"]==\"NaN\""
      ],
      "execution_count": 111,
      "outputs": [
        {
          "output_type": "execute_result",
          "data": {
            "text/plain": [
              "latitude  longitude   time               \n",
              " 90.0     0.000000    2019-12-01 12:00:00    False\n",
              "                      2019-12-02 12:00:00    False\n",
              "                      2019-12-03 12:00:00    False\n",
              "                      2019-12-04 12:00:00    False\n",
              "                      2019-12-05 12:00:00    False\n",
              "                                             ...  \n",
              "-90.0     359.899994  2019-12-27 12:00:00    False\n",
              "                      2019-12-28 12:00:00    False\n",
              "                      2019-12-29 12:00:00    False\n",
              "                      2019-12-30 12:00:00    False\n",
              "                      2019-12-31 12:00:00    False\n",
              "Name: t2m, Length: 200991600, dtype: bool"
            ]
          },
          "metadata": {
            "tags": []
          },
          "execution_count": 111
        }
      ]
    },
    {
      "cell_type": "code",
      "metadata": {
        "id": "b3BD0c-fdvYT",
        "outputId": "c224822d-9192-4184-8252-d373913c6f66",
        "colab": {
          "base_uri": "https://localhost:8080/"
        }
      },
      "source": [
        "data[\"t2m\"][:]"
      ],
      "execution_count": 113,
      "outputs": [
        {
          "output_type": "execute_result",
          "data": {
            "text/plain": [
              "masked_array(\n",
              "  data=[[[--, --, --, ..., --, --, --],\n",
              "         [--, --, --, ..., --, --, --],\n",
              "         [--, --, --, ..., --, --, --],\n",
              "         ...,\n",
              "         [241.74369506477365, 241.74369506477365, 241.74369506477365,\n",
              "          ..., 241.74369506477365, 241.74369506477365,\n",
              "          241.74369506477365],\n",
              "         [241.74222270001673, 241.74222270001673, 241.74222270001673,\n",
              "          ..., 241.74222270001673, 241.74222270001673,\n",
              "          241.74222270001673],\n",
              "         [241.68480047449742, 241.68480047449742, 241.68480047449742,\n",
              "          ..., 241.68480047449742, 241.68480047449742,\n",
              "          241.68480047449742]],\n",
              "\n",
              "        [[--, --, --, ..., --, --, --],\n",
              "         [--, --, --, ..., --, --, --],\n",
              "         [--, --, --, ..., --, --, --],\n",
              "         ...,\n",
              "         [242.85974755050765, 242.85827518575076, 242.85827518575076,\n",
              "          ..., 242.85827518575076, 242.85827518575076,\n",
              "          242.85827518575076],\n",
              "         [242.84796863245242, 242.8464962676955, 242.8464962676955, ...,\n",
              "          242.8435515381817, 242.8464962676955, 242.8464962676955],\n",
              "         [242.3444198855909, 242.3444198855909, 242.3444198855909, ...,\n",
              "          242.3444198855909, 242.3444198855909, 242.3444198855909]],\n",
              "\n",
              "        [[--, --, --, ..., --, --, --],\n",
              "         [--, --, --, ..., --, --, --],\n",
              "         [--, --, --, ..., --, --, --],\n",
              "         ...,\n",
              "         [241.8747355281382, 241.8747355281382, 241.8747355281382, ...,\n",
              "          241.8747355281382, 241.8747355281382, 241.8747355281382],\n",
              "         [241.86884606911056, 241.86884606911056, 241.86884606911056,\n",
              "          ..., 241.86737370435367, 241.86884606911056,\n",
              "          241.86884606911056],\n",
              "         [241.98810761441987, 241.98810761441987, 241.98810761441987,\n",
              "          ..., 241.98810761441987, 241.98810761441987,\n",
              "          241.98810761441987]],\n",
              "\n",
              "        ...,\n",
              "\n",
              "        [[--, --, --, ..., --, --, --],\n",
              "         [--, --, --, ..., --, --, --],\n",
              "         [--, --, --, ..., --, --, --],\n",
              "         ...,\n",
              "         [246.60544349207407, 246.60397112731715, 246.60397112731715,\n",
              "          ..., 246.60544349207407, 246.60544349207407,\n",
              "          246.60544349207407],\n",
              "         [246.5863027502343, 246.5863027502343, 246.5848303854774, ...,\n",
              "          246.5863027502343, 246.5863027502343, 246.5863027502343],\n",
              "         [246.19170899538375, 246.19170899538375, 246.19170899538375,\n",
              "          ..., 246.19170899538375, 246.19170899538375,\n",
              "          246.19170899538375]],\n",
              "\n",
              "        [[--, --, --, ..., --, --, --],\n",
              "         [--, --, --, ..., --, --, --],\n",
              "         [--, --, --, ..., --, --, --],\n",
              "         ...,\n",
              "         [248.30749715105628, 248.30749715105628, 248.30749715105628,\n",
              "          ..., 248.29719059775795, 248.30160769202868,\n",
              "          248.3060247862994],\n",
              "         [248.28393931494583, 248.28393931494583, 248.28393931494583,\n",
              "          ..., 248.2736327616475, 248.27657749116128, 248.2795222206751],\n",
              "         [247.661129022775, 247.661129022775, 247.661129022775, ...,\n",
              "          247.661129022775, 247.661129022775, 247.661129022775]],\n",
              "\n",
              "        [[--, --, --, ..., --, --, --],\n",
              "         [--, --, --, ..., --, --, --],\n",
              "         [--, --, --, ..., --, --, --],\n",
              "         ...,\n",
              "         [244.32622284838507, 244.32622284838507, 244.32622284838507,\n",
              "          ..., 244.32475048362818, 244.32475048362818,\n",
              "          244.32622284838507],\n",
              "         [244.31297156557292, 244.31297156557292, 244.31297156557292,\n",
              "          ..., 244.31149920081603, 244.31149920081603,\n",
              "          244.31297156557292],\n",
              "         [243.94635274110357, 243.94635274110357, 243.94635274110357,\n",
              "          ..., 243.94635274110357, 243.94635274110357,\n",
              "          243.94635274110357]]],\n",
              "  mask=[[[ True,  True,  True, ...,  True,  True,  True],\n",
              "         [ True,  True,  True, ...,  True,  True,  True],\n",
              "         [ True,  True,  True, ...,  True,  True,  True],\n",
              "         ...,\n",
              "         [False, False, False, ..., False, False, False],\n",
              "         [False, False, False, ..., False, False, False],\n",
              "         [False, False, False, ..., False, False, False]],\n",
              "\n",
              "        [[ True,  True,  True, ...,  True,  True,  True],\n",
              "         [ True,  True,  True, ...,  True,  True,  True],\n",
              "         [ True,  True,  True, ...,  True,  True,  True],\n",
              "         ...,\n",
              "         [False, False, False, ..., False, False, False],\n",
              "         [False, False, False, ..., False, False, False],\n",
              "         [False, False, False, ..., False, False, False]],\n",
              "\n",
              "        [[ True,  True,  True, ...,  True,  True,  True],\n",
              "         [ True,  True,  True, ...,  True,  True,  True],\n",
              "         [ True,  True,  True, ...,  True,  True,  True],\n",
              "         ...,\n",
              "         [False, False, False, ..., False, False, False],\n",
              "         [False, False, False, ..., False, False, False],\n",
              "         [False, False, False, ..., False, False, False]],\n",
              "\n",
              "        ...,\n",
              "\n",
              "        [[ True,  True,  True, ...,  True,  True,  True],\n",
              "         [ True,  True,  True, ...,  True,  True,  True],\n",
              "         [ True,  True,  True, ...,  True,  True,  True],\n",
              "         ...,\n",
              "         [False, False, False, ..., False, False, False],\n",
              "         [False, False, False, ..., False, False, False],\n",
              "         [False, False, False, ..., False, False, False]],\n",
              "\n",
              "        [[ True,  True,  True, ...,  True,  True,  True],\n",
              "         [ True,  True,  True, ...,  True,  True,  True],\n",
              "         [ True,  True,  True, ...,  True,  True,  True],\n",
              "         ...,\n",
              "         [False, False, False, ..., False, False, False],\n",
              "         [False, False, False, ..., False, False, False],\n",
              "         [False, False, False, ..., False, False, False]],\n",
              "\n",
              "        [[ True,  True,  True, ...,  True,  True,  True],\n",
              "         [ True,  True,  True, ...,  True,  True,  True],\n",
              "         [ True,  True,  True, ...,  True,  True,  True],\n",
              "         ...,\n",
              "         [False, False, False, ..., False, False, False],\n",
              "         [False, False, False, ..., False, False, False],\n",
              "         [False, False, False, ..., False, False, False]]],\n",
              "  fill_value=-32767)"
            ]
          },
          "metadata": {
            "tags": []
          },
          "execution_count": 113
        }
      ]
    },
    {
      "cell_type": "code",
      "metadata": {
        "id": "qBStjpA2evYR"
      },
      "source": [
        ""
      ],
      "execution_count": null,
      "outputs": []
    }
  ]
}